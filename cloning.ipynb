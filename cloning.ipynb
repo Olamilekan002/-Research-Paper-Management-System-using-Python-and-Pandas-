{
 "cells": [
  {
   "cell_type": "code",
   "execution_count": 2,
   "metadata": {},
   "outputs": [
    {
     "name": "stderr",
     "output_type": "stream",
     "text": [
      "Cloning into 'Research-Paper-Management-System-using-Python'...\n"
     ]
    }
   ],
   "source": [
    "!git clone https://github.com/ademikel/Research-Paper-Management-System-using-Python.git"
   ]
  },
  {
   "cell_type": "code",
   "execution_count": 1,
   "metadata": {},
   "outputs": [
    {
     "name": "stderr",
     "output_type": "stream",
     "text": [
      "Switched to a new branch 'mike'\n"
     ]
    }
   ],
   "source": [
    "!git checkout -b mike"
   ]
  },
  {
   "cell_type": "code",
   "execution_count": 4,
   "metadata": {},
   "outputs": [
    {
     "name": "stderr",
     "output_type": "stream",
     "text": [
      "warning: LF will be replaced by CRLF in The Zimnat Insurance Assurance Challenge by #ZindiWeekendz/zindi_weekend_insurance_final_solution.ipynb.\n",
      "The file will have its original line endings in your working directory\n",
      "warning: LF will be replaced by CRLF in To Vaccinate or Not to Vaccinate It’s not a Question by #ZindiWeekendz/zindi_weekendz_nlp_final_solution.ipynb.\n",
      "The file will have its original line endings in your working directory\n",
      "warning: LF will be replaced by CRLF in Urban Air Pollution Challenge by #ZindiWeekendz/zindi-weekendz-pollution-v1.ipynb.\n",
      "The file will have its original line endings in your working directory\n",
      "warning: LF will be replaced by CRLF in Urban Air Pollution Challenge by #ZindiWeekendz/zindi-weekendz-pollution-v4.ipynb.\n",
      "The file will have its original line endings in your working directory\n",
      "warning: adding embedded git repository: Research-Paper-Management-System-using-Python\n",
      "hint: You've added another git repository inside your current repository.\n",
      "hint: Clones of the outer repository will not contain the contents of\n",
      "hint: the embedded repository and will not know how to obtain it.\n",
      "hint: If you meant to add a submodule, use:\n",
      "hint: \n",
      "hint: \tgit submodule add <url> Research-Paper-Management-System-using-Python\n",
      "hint: \n",
      "hint: If you added this path by mistake, you can remove it from the\n",
      "hint: index with:\n",
      "hint: \n",
      "hint: \tgit rm --cached Research-Paper-Management-System-using-Python\n",
      "hint: \n",
      "hint: See \"git help submodule\" for more information.\n",
      "warning: LF will be replaced by CRLF in Urban Air Pollution Challenge by #ZindiWeekendz/.ipynb_checkpoints/zindi-weekendz-pollution-v1-checkpoint.ipynb.\n",
      "The file will have its original line endings in your working directory\n",
      "warning: LF will be replaced by CRLF in cloning.ipynb.\n",
      "The file will have its original line endings in your working directory\n"
     ]
    }
   ],
   "source": [
    "!git add ."
   ]
  },
  {
   "cell_type": "code",
   "execution_count": null,
   "metadata": {},
   "outputs": [],
   "source": []
  }
 ],
 "metadata": {
  "kernelspec": {
   "display_name": "Python 3",
   "language": "python",
   "name": "python3"
  },
  "language_info": {
   "codemirror_mode": {
    "name": "ipython",
    "version": 3
   },
   "file_extension": ".py",
   "mimetype": "text/x-python",
   "name": "python",
   "nbconvert_exporter": "python",
   "pygments_lexer": "ipython3",
   "version": "3.9.12"
  },
  "orig_nbformat": 4
 },
 "nbformat": 4,
 "nbformat_minor": 2
}
